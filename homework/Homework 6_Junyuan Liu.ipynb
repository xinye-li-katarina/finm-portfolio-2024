{
 "cells": [
  {
   "cell_type": "markdown",
   "id": "473de7a3-c44b-489b-9e96-c39fa193f0da",
   "metadata": {},
   "source": [
    "# **Homework 6**"
   ]
  },
  {
   "cell_type": "code",
   "execution_count": 33,
   "id": "49a1a65f-cc67-4cd0-afdf-cba0c08d7bbf",
   "metadata": {},
   "outputs": [],
   "source": [
    "from functools import partial\n",
    "import pandas as pd\n",
    "import numpy as np\n",
    "import seaborn as sns\n",
    "import statsmodels.api as sm\n",
    "import matplotlib.pyplot as plt\n",
    "\n",
    "import sys\n",
    "if '../cmds/' not in sys.path:\n",
    "    sys.path.append('../cmds/')\n",
    "\n",
    "import warnings\n",
    "warnings.filterwarnings(\"ignore\")"
   ]
  },
  {
   "cell_type": "code",
   "execution_count": 34,
   "id": "d3bf1986-4520-430b-a5dc-9ab00d1cce6a",
   "metadata": {},
   "outputs": [],
   "source": [
    "raw_data = pd.read_excel('momentum_data.xlsx',sheet_name = None)\n",
    "sheets = list(raw_data.keys())\n",
    "\n",
    "ff_factors = raw_data[sheets[1]].set_index('Date')\n",
    "momentum = raw_data[sheets[2]].set_index('Date')\n",
    "mom_deciles = raw_data[sheets[3]].set_index('Date')\n",
    "tercile_port = raw_data[sheets[4]].set_index('Date')\n",
    "rf = raw_data[sheets[5]].set_index('Date')\n",
    "\n",
    "ff_factors['UMD'] = momentum['UMD']"
   ]
  },
  {
   "cell_type": "markdown",
   "id": "040cbf0b-2765-4e4b-b89f-c75905e8f92c",
   "metadata": {},
   "source": [
    "#### Functions"
   ]
  },
  {
   "cell_type": "code",
   "execution_count": 35,
   "id": "0389789d-82be-48a0-bd20-0b856b6d3d80",
   "metadata": {},
   "outputs": [],
   "source": [
    "def summary_statistics_annualized(returns, annual_factor = 12):\n",
    "    summary_statistics = pd.DataFrame(index=returns.columns)\n",
    "    summary_statistics['Mean'] = returns.mean() * annual_factor\n",
    "    summary_statistics['Vol'] = returns.std() * np.sqrt(annual_factor)\n",
    "    summary_statistics['Sharpe'] = (returns.mean() / returns.std()) * np.sqrt(annual_factor)\n",
    "    summary_statistics['Min'] = returns.min()\n",
    "    summary_statistics['Max'] = returns.max()\n",
    "    summary_statistics['Skewness'] = returns.skew()\n",
    "    summary_statistics['Excess Kurtosis'] = returns.kurtosis()\n",
    "    summary_statistics['VaR (0.05)'] = returns.quantile(.05, axis = 0)\n",
    "    summary_statistics['CVaR (0.05)'] = returns[returns <= returns.quantile(.05, axis = 0)].mean()   \n",
    "    return summary_statistics"
   ]
  },
  {
   "cell_type": "markdown",
   "id": "2c01ef0e-ab20-4a11-90dc-941485e0ed41",
   "metadata": {},
   "source": [
    "## **2 Investigating Momentum**"
   ]
  },
  {
   "cell_type": "markdown",
   "id": "fa624d55-0441-4eab-80b8-20221affc893",
   "metadata": {},
   "source": [
    "### **2.1.(a)**"
   ]
  },
  {
   "cell_type": "code",
   "execution_count": 36,
   "id": "7b54d05f-fb5b-4793-a6e8-069eb228dcce",
   "metadata": {},
   "outputs": [
    {
     "data": {
      "text/html": [
       "<div>\n",
       "<style scoped>\n",
       "    .dataframe tbody tr th:only-of-type {\n",
       "        vertical-align: middle;\n",
       "    }\n",
       "\n",
       "    .dataframe tbody tr th {\n",
       "        vertical-align: top;\n",
       "    }\n",
       "\n",
       "    .dataframe thead th {\n",
       "        text-align: right;\n",
       "    }\n",
       "</style>\n",
       "<table border=\"1\" class=\"dataframe\">\n",
       "  <thead>\n",
       "    <tr style=\"text-align: right;\">\n",
       "      <th></th>\n",
       "      <th>Mean</th>\n",
       "      <th>Vol</th>\n",
       "      <th>Sharpe</th>\n",
       "      <th>Skewness</th>\n",
       "      <th>mkt_corr</th>\n",
       "      <th>val_corr</th>\n",
       "    </tr>\n",
       "  </thead>\n",
       "  <tbody>\n",
       "    <tr>\n",
       "      <th>1927 - 2024</th>\n",
       "      <td>0.075328</td>\n",
       "      <td>0.162508</td>\n",
       "      <td>0.463534</td>\n",
       "      <td>-2.990493</td>\n",
       "      <td>-0.344284</td>\n",
       "      <td>-0.406410</td>\n",
       "    </tr>\n",
       "    <tr>\n",
       "      <th>1927 - 1993</th>\n",
       "      <td>0.090081</td>\n",
       "      <td>0.160003</td>\n",
       "      <td>0.562992</td>\n",
       "      <td>-3.808207</td>\n",
       "      <td>-0.362496</td>\n",
       "      <td>-0.495002</td>\n",
       "    </tr>\n",
       "    <tr>\n",
       "      <th>1994 - 2008</th>\n",
       "      <td>0.104373</td>\n",
       "      <td>0.175551</td>\n",
       "      <td>0.594548</td>\n",
       "      <td>-0.582038</td>\n",
       "      <td>-0.234519</td>\n",
       "      <td>-0.129361</td>\n",
       "    </tr>\n",
       "    <tr>\n",
       "      <th>2009 - 2024</th>\n",
       "      <td>-0.015092</td>\n",
       "      <td>0.158467</td>\n",
       "      <td>-0.095238</td>\n",
       "      <td>-2.691022</td>\n",
       "      <td>-0.367588</td>\n",
       "      <td>-0.320924</td>\n",
       "    </tr>\n",
       "  </tbody>\n",
       "</table>\n",
       "</div>"
      ],
      "text/plain": [
       "                 Mean       Vol    Sharpe  Skewness  mkt_corr  val_corr\n",
       "1927 - 2024  0.075328  0.162508  0.463534 -2.990493 -0.344284 -0.406410\n",
       "1927 - 1993  0.090081  0.160003  0.562992 -3.808207 -0.362496 -0.495002\n",
       "1994 - 2008  0.104373  0.175551  0.594548 -0.582038 -0.234519 -0.129361\n",
       "2009 - 2024 -0.015092  0.158467 -0.095238 -2.691022 -0.367588 -0.320924"
      ]
     },
     "execution_count": 36,
     "metadata": {},
     "output_type": "execute_result"
    }
   ],
   "source": [
    "periods = [['1927', '2024'], ['1927', '1993'], ['1994', '2008'], ['2009', '2024']]\n",
    "summary_col_names = ['Mean','Vol','Sharpe','Skewness']\n",
    "res = []\n",
    "for period in periods:\n",
    "    temp = momentum.loc[period[0]:period[1]]\n",
    "    temp_ff = ff_factors.loc[period[0]:period[1]]\n",
    "    summary = summary_statistics_annualized(temp, annual_factor = 12)[summary_col_names]\n",
    "    summary['mkt_corr'] = temp_ff.corr().loc['MKT',['UMD']]\n",
    "    summary['val_corr'] = temp_ff.corr().loc['HML',['UMD']]\n",
    "    summary = summary.T.iloc[:,0].rename(f'{period[0]} - {period[1]}')\n",
    "    res.append(summary)\n",
    "summary  = pd.concat(res, axis=1).T\n",
    "summary"
   ]
  },
  {
   "cell_type": "markdown",
   "id": "95ae8ba6-d96a-4538-bc44-c7c7a0dbb041",
   "metadata": {},
   "source": [
    "### **2.1.(b)**"
   ]
  },
  {
   "cell_type": "markdown",
   "id": "2069d856-f9a0-4d56-99b7-829b0b36320b",
   "metadata": {},
   "source": [
    "#### Based on these subsample statistics, the momentum doesn't change much in the most of the periods(with mean: 0.090, 0.104), but it shows negative return after 2009(-0.015)."
   ]
  },
  {
   "cell_type": "markdown",
   "id": "595d2fe2-60db-44bb-b351-8c65fb31fdfb",
   "metadata": {},
   "source": [
    "### **2.1.(c)**"
   ]
  },
  {
   "cell_type": "markdown",
   "id": "c90b9ee0-41c1-4bb5-bbe8-c6267612a33d",
   "metadata": {},
   "source": [
    "#### Yes, because Momentum performance has achieved relatively significant positive returns (0.075328) in the overall time period. Additionally, due to its low correlation with market portfolio returns, it can effectively be used to diversify risk. Even though the mean returns to momentum are actually near zero due to transaction costs, it is still valuable because of its low correlation with other factors."
   ]
  },
  {
   "cell_type": "code",
   "execution_count": 37,
   "id": "48e24a46-9f55-445a-a648-36e470ab59a0",
   "metadata": {},
   "outputs": [
    {
     "data": {
      "text/html": [
       "<div>\n",
       "<style scoped>\n",
       "    .dataframe tbody tr th:only-of-type {\n",
       "        vertical-align: middle;\n",
       "    }\n",
       "\n",
       "    .dataframe tbody tr th {\n",
       "        vertical-align: top;\n",
       "    }\n",
       "\n",
       "    .dataframe thead th {\n",
       "        text-align: right;\n",
       "    }\n",
       "</style>\n",
       "<table border=\"1\" class=\"dataframe\">\n",
       "  <thead>\n",
       "    <tr style=\"text-align: right;\">\n",
       "      <th></th>\n",
       "      <th>SMALL LoPRIOR</th>\n",
       "      <th>ME1 PRIOR2</th>\n",
       "      <th>SMALL HiPRIOR</th>\n",
       "      <th>BIG LoPRIOR</th>\n",
       "      <th>ME2 PRIOR2</th>\n",
       "      <th>BIG HiPRIOR</th>\n",
       "    </tr>\n",
       "    <tr>\n",
       "      <th>Date</th>\n",
       "      <th></th>\n",
       "      <th></th>\n",
       "      <th></th>\n",
       "      <th></th>\n",
       "      <th></th>\n",
       "      <th></th>\n",
       "    </tr>\n",
       "  </thead>\n",
       "  <tbody>\n",
       "    <tr>\n",
       "      <th>1927-01-31</th>\n",
       "      <td>0.0008</td>\n",
       "      <td>0.0357</td>\n",
       "      <td>0.0040</td>\n",
       "      <td>-0.0040</td>\n",
       "      <td>0.0026</td>\n",
       "      <td>0.0000</td>\n",
       "    </tr>\n",
       "    <tr>\n",
       "      <th>1927-02-28</th>\n",
       "      <td>0.0701</td>\n",
       "      <td>0.0648</td>\n",
       "      <td>0.0551</td>\n",
       "      <td>0.0727</td>\n",
       "      <td>0.0380</td>\n",
       "      <td>0.0447</td>\n",
       "    </tr>\n",
       "    <tr>\n",
       "      <th>1927-03-31</th>\n",
       "      <td>-0.0346</td>\n",
       "      <td>-0.0288</td>\n",
       "      <td>-0.0206</td>\n",
       "      <td>-0.0357</td>\n",
       "      <td>-0.0018</td>\n",
       "      <td>0.0226</td>\n",
       "    </tr>\n",
       "    <tr>\n",
       "      <th>1927-04-30</th>\n",
       "      <td>-0.0075</td>\n",
       "      <td>-0.0048</td>\n",
       "      <td>0.0332</td>\n",
       "      <td>-0.0272</td>\n",
       "      <td>0.0075</td>\n",
       "      <td>0.0181</td>\n",
       "    </tr>\n",
       "    <tr>\n",
       "      <th>1927-05-31</th>\n",
       "      <td>0.0248</td>\n",
       "      <td>0.1115</td>\n",
       "      <td>0.0683</td>\n",
       "      <td>0.0552</td>\n",
       "      <td>0.0496</td>\n",
       "      <td>0.0718</td>\n",
       "    </tr>\n",
       "    <tr>\n",
       "      <th>...</th>\n",
       "      <td>...</td>\n",
       "      <td>...</td>\n",
       "      <td>...</td>\n",
       "      <td>...</td>\n",
       "      <td>...</td>\n",
       "      <td>...</td>\n",
       "    </tr>\n",
       "    <tr>\n",
       "      <th>2024-05-31</th>\n",
       "      <td>0.0571</td>\n",
       "      <td>0.0483</td>\n",
       "      <td>0.0457</td>\n",
       "      <td>0.0549</td>\n",
       "      <td>0.0287</td>\n",
       "      <td>0.0660</td>\n",
       "    </tr>\n",
       "    <tr>\n",
       "      <th>2024-06-30</th>\n",
       "      <td>-0.0241</td>\n",
       "      <td>-0.0138</td>\n",
       "      <td>-0.0311</td>\n",
       "      <td>0.0292</td>\n",
       "      <td>0.0225</td>\n",
       "      <td>0.0542</td>\n",
       "    </tr>\n",
       "    <tr>\n",
       "      <th>2024-07-31</th>\n",
       "      <td>0.0900</td>\n",
       "      <td>0.1066</td>\n",
       "      <td>0.1091</td>\n",
       "      <td>0.0474</td>\n",
       "      <td>0.0320</td>\n",
       "      <td>-0.0202</td>\n",
       "    </tr>\n",
       "    <tr>\n",
       "      <th>2024-08-31</th>\n",
       "      <td>-0.0486</td>\n",
       "      <td>-0.0049</td>\n",
       "      <td>0.0073</td>\n",
       "      <td>-0.0164</td>\n",
       "      <td>0.0296</td>\n",
       "      <td>0.0235</td>\n",
       "    </tr>\n",
       "    <tr>\n",
       "      <th>2024-09-30</th>\n",
       "      <td>0.0096</td>\n",
       "      <td>0.0047</td>\n",
       "      <td>0.0042</td>\n",
       "      <td>0.0312</td>\n",
       "      <td>0.0181</td>\n",
       "      <td>0.0243</td>\n",
       "    </tr>\n",
       "  </tbody>\n",
       "</table>\n",
       "<p>1173 rows × 6 columns</p>\n",
       "</div>"
      ],
      "text/plain": [
       "            SMALL LoPRIOR  ME1 PRIOR2  SMALL HiPRIOR  BIG LoPRIOR  ME2 PRIOR2  \\\n",
       "Date                                                                            \n",
       "1927-01-31         0.0008      0.0357         0.0040      -0.0040      0.0026   \n",
       "1927-02-28         0.0701      0.0648         0.0551       0.0727      0.0380   \n",
       "1927-03-31        -0.0346     -0.0288        -0.0206      -0.0357     -0.0018   \n",
       "1927-04-30        -0.0075     -0.0048         0.0332      -0.0272      0.0075   \n",
       "1927-05-31         0.0248      0.1115         0.0683       0.0552      0.0496   \n",
       "...                   ...         ...            ...          ...         ...   \n",
       "2024-05-31         0.0571      0.0483         0.0457       0.0549      0.0287   \n",
       "2024-06-30        -0.0241     -0.0138        -0.0311       0.0292      0.0225   \n",
       "2024-07-31         0.0900      0.1066         0.1091       0.0474      0.0320   \n",
       "2024-08-31        -0.0486     -0.0049         0.0073      -0.0164      0.0296   \n",
       "2024-09-30         0.0096      0.0047         0.0042       0.0312      0.0181   \n",
       "\n",
       "            BIG HiPRIOR  \n",
       "Date                     \n",
       "1927-01-31       0.0000  \n",
       "1927-02-28       0.0447  \n",
       "1927-03-31       0.0226  \n",
       "1927-04-30       0.0181  \n",
       "1927-05-31       0.0718  \n",
       "...                 ...  \n",
       "2024-05-31       0.0660  \n",
       "2024-06-30       0.0542  \n",
       "2024-07-31      -0.0202  \n",
       "2024-08-31       0.0235  \n",
       "2024-09-30       0.0243  \n",
       "\n",
       "[1173 rows x 6 columns]"
      ]
     },
     "execution_count": 37,
     "metadata": {},
     "output_type": "execute_result"
    }
   ],
   "source": [
    "tercile_port"
   ]
  },
  {
   "cell_type": "markdown",
   "id": "c157012d-fab1-4d2e-8548-b1552963f340",
   "metadata": {},
   "source": [
    "### **2.2.(a)**"
   ]
  },
  {
   "cell_type": "code",
   "execution_count": 38,
   "id": "068ac86f-554d-497b-a1a8-6271f1908117",
   "metadata": {},
   "outputs": [
    {
     "data": {
      "text/html": [
       "<div>\n",
       "<style scoped>\n",
       "    .dataframe tbody tr th:only-of-type {\n",
       "        vertical-align: middle;\n",
       "    }\n",
       "\n",
       "    .dataframe tbody tr th {\n",
       "        vertical-align: top;\n",
       "    }\n",
       "\n",
       "    .dataframe thead th {\n",
       "        text-align: right;\n",
       "    }\n",
       "</style>\n",
       "<table border=\"1\" class=\"dataframe\">\n",
       "  <thead>\n",
       "    <tr style=\"text-align: right;\">\n",
       "      <th></th>\n",
       "      <th>Mean</th>\n",
       "      <th>Vol</th>\n",
       "      <th>Sharpe</th>\n",
       "      <th>Skewness</th>\n",
       "      <th>mkt_corr</th>\n",
       "      <th>val_corr</th>\n",
       "    </tr>\n",
       "  </thead>\n",
       "  <tbody>\n",
       "    <tr>\n",
       "      <th>long_and_short</th>\n",
       "      <td>0.043184</td>\n",
       "      <td>0.167682</td>\n",
       "      <td>0.257534</td>\n",
       "      <td>-1.445951</td>\n",
       "      <td>-0.344284</td>\n",
       "      <td>-0.406410</td>\n",
       "    </tr>\n",
       "    <tr>\n",
       "      <th>long_only</th>\n",
       "      <td>0.117195</td>\n",
       "      <td>0.178410</td>\n",
       "      <td>0.656885</td>\n",
       "      <td>-0.444802</td>\n",
       "      <td>0.935817</td>\n",
       "      <td>0.210531</td>\n",
       "    </tr>\n",
       "  </tbody>\n",
       "</table>\n",
       "</div>"
      ],
      "text/plain": [
       "                    Mean       Vol    Sharpe  Skewness  mkt_corr  val_corr\n",
       "long_and_short  0.043184  0.167682  0.257534 -1.445951 -0.344284 -0.406410\n",
       "long_only       0.117195  0.178410  0.656885 -0.444802  0.935817  0.210531"
      ]
     },
     "execution_count": 38,
     "metadata": {},
     "output_type": "execute_result"
    }
   ],
   "source": [
    "mom_long = (tercile_port['BIG HiPRIOR'] + tercile_port['SMALL HiPRIOR'])/2 - rf['RF']\n",
    "mom_names = ['long_and_short','long_only']\n",
    "\n",
    "temp = ff_factors.copy().rename(columns={'UMD':'long_and_short'})\n",
    "temp['long_only']  = mom_long\n",
    "summary = summary_statistics_annualized(temp.loc[\"1994\":, mom_names])[summary_col_names]\n",
    "summary['mkt_corr'] = temp.corr().loc['MKT', mom_names]\n",
    "summary['val_corr'] = temp.corr().loc['HML', mom_names]\n",
    "summary"
   ]
  },
  {
   "cell_type": "markdown",
   "id": "17ee011b-37dd-4ddf-9ff5-05b0d61017e8",
   "metadata": {},
   "source": [
    "### **2.2.(b)**"
   ]
  },
  {
   "cell_type": "markdown",
   "id": "5653cb44-2b66-49ff-8960-dc1a86c1449c",
   "metadata": {},
   "source": [
    "#### Yes, long-only momentum can achieve significantly higher mean returns with similar volatility."
   ]
  },
  {
   "cell_type": "markdown",
   "id": "195f6c57-7d64-4225-a8ec-54267773bd75",
   "metadata": {},
   "source": [
    "### **2.2.(c)**"
   ]
  },
  {
   "cell_type": "markdown",
   "id": "34a6c019-af26-4d54-afa8-ae106d8ceb52",
   "metadata": {},
   "source": [
    "#### Considering market and value premia, the long-only momentum strategy has a correlation coefficient with the market portfolio as high as 0.936. This indicates that it does not effectively hedge against market risk and cannot be considered diversifying."
   ]
  },
  {
   "cell_type": "markdown",
   "id": "868b2880-a4bb-43d4-9f35-4787ff06da09",
   "metadata": {},
   "source": [
    "### **2.2.(d)**"
   ]
  },
  {
   "cell_type": "code",
   "execution_count": 39,
   "id": "db4cfa2e-90eb-4f1c-9c84-d6b3b65ea147",
   "metadata": {},
   "outputs": [
    {
     "data": {
      "text/plain": [
       "<Axes: xlabel='Date'>"
      ]
     },
     "execution_count": 39,
     "metadata": {},
     "output_type": "execute_result"
    },
    {
     "data": {
      "image/png": "[encoded data removed]",
      "text/plain": [
       "<Figure size 640x480 with 1 Axes>"
      ]
     },
     "metadata": {},
     "output_type": "display_data"
    }
   ],
   "source": [
    "(1 + temp[mom_names + ['MKT']].loc['1994':]).cumprod().plot()"
   ]
  },
  {
   "cell_type": "markdown",
   "id": "9445e4cc-d38f-44a0-875a-c88cc2badcae",
   "metadata": {},
   "source": [
    "### **2.3.(a)**"
   ]
  },
  {
   "cell_type": "code",
   "execution_count": 40,
   "id": "f3b9e731-acdb-4e3b-9508-d2d99524efc8",
   "metadata": {},
   "outputs": [
    {
     "data": {
      "text/html": [
       "<div>\n",
       "<style scoped>\n",
       "    .dataframe tbody tr th:only-of-type {\n",
       "        vertical-align: middle;\n",
       "    }\n",
       "\n",
       "    .dataframe tbody tr th {\n",
       "        vertical-align: top;\n",
       "    }\n",
       "\n",
       "    .dataframe thead th {\n",
       "        text-align: right;\n",
       "    }\n",
       "</style>\n",
       "<table border=\"1\" class=\"dataframe\">\n",
       "  <thead>\n",
       "    <tr style=\"text-align: right;\">\n",
       "      <th></th>\n",
       "      <th>Mean</th>\n",
       "      <th>Vol</th>\n",
       "      <th>Sharpe</th>\n",
       "      <th>Skewness</th>\n",
       "      <th>mkt_corr</th>\n",
       "      <th>val_corr</th>\n",
       "    </tr>\n",
       "  </thead>\n",
       "  <tbody>\n",
       "    <tr>\n",
       "      <th>mom_D1</th>\n",
       "      <td>0.082010</td>\n",
       "      <td>0.299035</td>\n",
       "      <td>0.274248</td>\n",
       "      <td>-1.304629</td>\n",
       "      <td>-0.369000</td>\n",
       "      <td>-0.404373</td>\n",
       "    </tr>\n",
       "    <tr>\n",
       "      <th>mom_D3</th>\n",
       "      <td>0.028551</td>\n",
       "      <td>0.193383</td>\n",
       "      <td>0.147638</td>\n",
       "      <td>-1.345002</td>\n",
       "      <td>-0.381904</td>\n",
       "      <td>-0.396644</td>\n",
       "    </tr>\n",
       "    <tr>\n",
       "      <th>mom_D5</th>\n",
       "      <td>0.016411</td>\n",
       "      <td>0.133990</td>\n",
       "      <td>0.122480</td>\n",
       "      <td>-1.415925</td>\n",
       "      <td>-0.361677</td>\n",
       "      <td>-0.391819</td>\n",
       "    </tr>\n",
       "    <tr>\n",
       "      <th>UMD</th>\n",
       "      <td>0.043184</td>\n",
       "      <td>0.167682</td>\n",
       "      <td>0.257534</td>\n",
       "      <td>-1.445951</td>\n",
       "      <td>-0.344284</td>\n",
       "      <td>-0.406410</td>\n",
       "    </tr>\n",
       "  </tbody>\n",
       "</table>\n",
       "</div>"
      ],
      "text/plain": [
       "            Mean       Vol    Sharpe  Skewness  mkt_corr  val_corr\n",
       "mom_D1  0.082010  0.299035  0.274248 -1.304629 -0.369000 -0.404373\n",
       "mom_D3  0.028551  0.193383  0.147638 -1.345002 -0.381904 -0.396644\n",
       "mom_D5  0.016411  0.133990  0.122480 -1.415925 -0.361677 -0.391819\n",
       "UMD     0.043184  0.167682  0.257534 -1.445951 -0.344284 -0.406410"
      ]
     },
     "execution_count": 40,
     "metadata": {},
     "output_type": "execute_result"
    }
   ],
   "source": [
    "ls_1decile = mom_deciles['Hi PRIOR'] - mom_deciles['Lo PRIOR']\n",
    "ls_3decile = mom_deciles.iloc[:,-3:].mean(axis = 1) - mom_deciles.iloc[:,:3].mean(axis = 1)\n",
    "ls_5decile = mom_deciles.iloc[:,-5:].mean(axis = 1) - mom_deciles.iloc[:,:5].mean(axis = 1)\n",
    "\n",
    "ls_names = ['mom_D1','mom_D3','mom_D5']\n",
    "temp = ff_factors.copy()\n",
    "temp[ls_names] = pd.concat([ls_1decile, ls_3decile, ls_5decile], axis=1)\n",
    "summary = summary_statistics_annualized(temp.loc[\"1994\":, ls_names + ['UMD']])[summary_col_names]\n",
    "summary['mkt_corr'] = temp.corr().loc['MKT', ls_names + ['UMD']]\n",
    "summary['val_corr'] = temp.corr().loc['HML', ls_names + ['UMD']]\n",
    "summary"
   ]
  },
  {
   "cell_type": "markdown",
   "id": "80f2f637-7993-44f1-8096-d0bf0d0d12a2",
   "metadata": {},
   "source": [
    "### **2.3.(b)**"
   ]
  },
  {
   "cell_type": "markdown",
   "id": "ff6eaed8-cd45-4caa-a7d3-d2b2c0efd339",
   "metadata": {},
   "source": [
    "#### Statistical results indicate that the trading strategy of going long the top 1 decile and short the bottom 1 decile can achieve the highest mean return (0.082) while generating higher return volatility (0.299), consistent with the theoretical trade-offs we discussed in class."
   ]
  },
  {
   "cell_type": "markdown",
   "id": "02496ff6-01e1-4ff3-bb9d-ce7c2a84e6a3",
   "metadata": {},
   "source": [
    "### **2.3.(c)**"
   ]
  },
  {
   "cell_type": "markdown",
   "id": "66800c46-cb1b-4605-9a05-63e1c67ada37",
   "metadata": {},
   "source": [
    "#### When balancing mean returns and risk, I tend to choose the strategy with a higher Sharpe ratio, which is the 1-decile construction."
   ]
  },
  {
   "cell_type": "markdown",
   "id": "3d71fb0d-6739-4d5b-ade6-8195445f60af",
   "metadata": {},
   "source": [
    "### **2.3.(d)**"
   ]
  },
  {
   "cell_type": "markdown",
   "id": "a0591d85-139d-40f4-9d53-d97d89528206",
   "metadata": {},
   "source": [
    "#### When comparing the statistical metrics of the mom_D3 with the UMD, their performances are indeed very similar. However, mom_D3 performs slightly worse than the Fama-French construction in both mean return and volatility. The Fama-French construction allows for a balance between small and large stocks, whereas momD3 may overly favor one type, leading to the exclusion of excellent stocks in the other type."
   ]
  },
  {
   "cell_type": "markdown",
   "id": "80e18728-157b-4730-b9d4-0c01ba46057e",
   "metadata": {},
   "source": [
    "### **2.4.(a)**"
   ]
  },
  {
   "cell_type": "code",
   "execution_count": 41,
   "id": "5a702daa-cba9-4bf2-90f9-0e6e8df62133",
   "metadata": {},
   "outputs": [
    {
     "data": {
      "text/html": [
       "<div>\n",
       "<style scoped>\n",
       "    .dataframe tbody tr th:only-of-type {\n",
       "        vertical-align: middle;\n",
       "    }\n",
       "\n",
       "    .dataframe tbody tr th {\n",
       "        vertical-align: top;\n",
       "    }\n",
       "\n",
       "    .dataframe thead th {\n",
       "        text-align: right;\n",
       "    }\n",
       "</style>\n",
       "<table border=\"1\" class=\"dataframe\">\n",
       "  <thead>\n",
       "    <tr style=\"text-align: right;\">\n",
       "      <th></th>\n",
       "      <th>Mean</th>\n",
       "      <th>Vol</th>\n",
       "      <th>Sharpe</th>\n",
       "      <th>Skewness</th>\n",
       "      <th>mkt_corr</th>\n",
       "      <th>val_corr</th>\n",
       "    </tr>\n",
       "  </thead>\n",
       "  <tbody>\n",
       "    <tr>\n",
       "      <th>Small_stocks</th>\n",
       "      <td>0.063200</td>\n",
       "      <td>0.169633</td>\n",
       "      <td>0.372569</td>\n",
       "      <td>-1.763649</td>\n",
       "      <td>-0.331534</td>\n",
       "      <td>-0.388244</td>\n",
       "    </tr>\n",
       "    <tr>\n",
       "      <th>Big_stocks</th>\n",
       "      <td>0.023177</td>\n",
       "      <td>0.182458</td>\n",
       "      <td>0.127028</td>\n",
       "      <td>-0.879114</td>\n",
       "      <td>-0.324900</td>\n",
       "      <td>-0.386341</td>\n",
       "    </tr>\n",
       "    <tr>\n",
       "      <th>All_stocks</th>\n",
       "      <td>0.043184</td>\n",
       "      <td>0.167682</td>\n",
       "      <td>0.257534</td>\n",
       "      <td>-1.445951</td>\n",
       "      <td>-0.344284</td>\n",
       "      <td>-0.406410</td>\n",
       "    </tr>\n",
       "  </tbody>\n",
       "</table>\n",
       "</div>"
      ],
      "text/plain": [
       "                  Mean       Vol    Sharpe  Skewness  mkt_corr  val_corr\n",
       "Small_stocks  0.063200  0.169633  0.372569 -1.763649 -0.331534 -0.388244\n",
       "Big_stocks    0.023177  0.182458  0.127028 -0.879114 -0.324900 -0.386341\n",
       "All_stocks    0.043184  0.167682  0.257534 -1.445951 -0.344284 -0.406410"
      ]
     },
     "execution_count": 41,
     "metadata": {},
     "output_type": "execute_result"
    }
   ],
   "source": [
    "mom_small = tercile_port['SMALL HiPRIOR'] - tercile_port['SMALL LoPRIOR']\n",
    "mom_large = tercile_port['BIG HiPRIOR'] - tercile_port['BIG LoPRIOR']\n",
    "\n",
    "mom_size_name = ['Small_stocks','Big_stocks']\n",
    "temp = ff_factors.copy()\n",
    "temp[mom_size_name] = pd.concat([mom_small, mom_large], axis=1)\n",
    "summary = summary_statistics_annualized(temp.loc[\"1994\":, mom_size_name + ['UMD']])[summary_col_names]\n",
    "summary['mkt_corr'] = temp.corr().loc['MKT', mom_size_name + ['UMD']]\n",
    "summary['val_corr'] = temp.corr().loc['HML', mom_size_name + ['UMD']]\n",
    "summary.rename({'UMD':'All_stocks'})"
   ]
  },
  {
   "cell_type": "markdown",
   "id": "b71d237b-ba40-4592-ad3d-fe03713963ee",
   "metadata": {},
   "source": [
    "### **2.4.(b)**"
   ]
  },
  {
   "cell_type": "markdown",
   "id": "b72fcccf-048c-465a-861f-4fd791c3446e",
   "metadata": {},
   "source": [
    "#### Statistical results indicate that the small stock momentum portfolio indeed outperforms the large stock momentum portfolio, but the latter still generates positive excess returns."
   ]
  },
  {
   "cell_type": "markdown",
   "id": "8a1b45d3-6368-4e06-876c-7ebd28eae0ac",
   "metadata": {},
   "source": [
    "### **2.5**"
   ]
  },
  {
   "cell_type": "markdown",
   "id": "ede19121-6e2d-4a46-89fd-b839369eb158",
   "metadata": {},
   "source": [
    "#### AQR's retail product uses a long only approach which leads to a higher correlation with the Market and has less diversification benefits compared to the benchmark index or Fama-French momentum factor.\n",
    "#### Quarterly rebalancing might make the portfolio diverge from the benchmark index and Fama-French momentum factor."
   ]
  },
  {
   "cell_type": "markdown",
   "id": "f65031f9-28a8-41fb-a700-ff1ba5ac9fa1",
   "metadata": {},
   "source": [
    "## **4 Estimating Underperformance**"
   ]
  },
  {
   "cell_type": "code",
   "execution_count": 42,
   "id": "0b7c166f-63f5-4271-a5af-4327cf30af74",
   "metadata": {},
   "outputs": [],
   "source": [
    "import pandas as pd\n",
    "import numpy as np\n",
    "import matplotlib.pyplot as plt\n",
    "import seaborn as sns\n",
    "from scipy.stats import norm\n",
    "import statsmodels.api as sm\n",
    "import scipy.stats as stats\n",
    "import arch\n",
    "import warnings\n",
    "warnings.filterwarnings(\"ignore\")\n",
    "from arch import arch_model\n",
    "from arch.univariate import GARCH, EWMAVariance\n",
    "sns.set_theme()"
   ]
  },
  {
   "cell_type": "code",
   "execution_count": 51,
   "id": "fefad467-99fb-4885-837b-f71ae40e6e65",
   "metadata": {},
   "outputs": [
    {
     "data": {
      "text/html": [
       "<div>\n",
       "<style scoped>\n",
       "    .dataframe tbody tr th:only-of-type {\n",
       "        vertical-align: middle;\n",
       "    }\n",
       "\n",
       "    .dataframe tbody tr th {\n",
       "        vertical-align: top;\n",
       "    }\n",
       "\n",
       "    .dataframe thead th {\n",
       "        text-align: right;\n",
       "    }\n",
       "</style>\n",
       "<table border=\"1\" class=\"dataframe\">\n",
       "  <thead>\n",
       "    <tr style=\"text-align: right;\">\n",
       "      <th></th>\n",
       "      <th>SPX</th>\n",
       "      <th>TB1M</th>\n",
       "      <th>excess_returns</th>\n",
       "    </tr>\n",
       "    <tr>\n",
       "      <th>date</th>\n",
       "      <th></th>\n",
       "      <th></th>\n",
       "      <th></th>\n",
       "    </tr>\n",
       "  </thead>\n",
       "  <tbody>\n",
       "    <tr>\n",
       "      <th>1926-01-30</th>\n",
       "      <td>-0.001783</td>\n",
       "      <td>0.003061</td>\n",
       "      <td>-0.004844</td>\n",
       "    </tr>\n",
       "    <tr>\n",
       "      <th>1926-02-27</th>\n",
       "      <td>-0.033297</td>\n",
       "      <td>0.002612</td>\n",
       "      <td>-0.035909</td>\n",
       "    </tr>\n",
       "    <tr>\n",
       "      <th>1926-03-31</th>\n",
       "      <td>-0.057708</td>\n",
       "      <td>0.002601</td>\n",
       "      <td>-0.060309</td>\n",
       "    </tr>\n",
       "    <tr>\n",
       "      <th>1926-04-30</th>\n",
       "      <td>0.038522</td>\n",
       "      <td>0.002270</td>\n",
       "      <td>0.036252</td>\n",
       "    </tr>\n",
       "    <tr>\n",
       "      <th>1926-05-28</th>\n",
       "      <td>0.013623</td>\n",
       "      <td>0.002691</td>\n",
       "      <td>0.010932</td>\n",
       "    </tr>\n",
       "    <tr>\n",
       "      <th>...</th>\n",
       "      <td>...</td>\n",
       "      <td>...</td>\n",
       "      <td>...</td>\n",
       "    </tr>\n",
       "    <tr>\n",
       "      <th>2024-05-31</th>\n",
       "      <td>0.049431</td>\n",
       "      <td>0.004465</td>\n",
       "      <td>0.044966</td>\n",
       "    </tr>\n",
       "    <tr>\n",
       "      <th>2024-06-28</th>\n",
       "      <td>0.037199</td>\n",
       "      <td>0.004467</td>\n",
       "      <td>0.032732</td>\n",
       "    </tr>\n",
       "    <tr>\n",
       "      <th>2024-07-31</th>\n",
       "      <td>0.012148</td>\n",
       "      <td>0.004464</td>\n",
       "      <td>0.007684</td>\n",
       "    </tr>\n",
       "    <tr>\n",
       "      <th>2024-08-30</th>\n",
       "      <td>0.024283</td>\n",
       "      <td>0.004380</td>\n",
       "      <td>0.019903</td>\n",
       "    </tr>\n",
       "    <tr>\n",
       "      <th>2024-09-30</th>\n",
       "      <td>0.022822</td>\n",
       "      <td>0.003826</td>\n",
       "      <td>0.018996</td>\n",
       "    </tr>\n",
       "  </tbody>\n",
       "</table>\n",
       "<p>1185 rows × 3 columns</p>\n",
       "</div>"
      ],
      "text/plain": [
       "                 SPX      TB1M  excess_returns\n",
       "date                                          \n",
       "1926-01-30 -0.001783  0.003061       -0.004844\n",
       "1926-02-27 -0.033297  0.002612       -0.035909\n",
       "1926-03-31 -0.057708  0.002601       -0.060309\n",
       "1926-04-30  0.038522  0.002270        0.036252\n",
       "1926-05-28  0.013623  0.002691        0.010932\n",
       "...              ...       ...             ...\n",
       "2024-05-31  0.049431  0.004465        0.044966\n",
       "2024-06-28  0.037199  0.004467        0.032732\n",
       "2024-07-31  0.012148  0.004464        0.007684\n",
       "2024-08-30  0.024283  0.004380        0.019903\n",
       "2024-09-30  0.022822  0.003826        0.018996\n",
       "\n",
       "[1185 rows x 3 columns]"
      ]
     },
     "execution_count": 51,
     "metadata": {},
     "output_type": "execute_result"
    }
   ],
   "source": [
    "data = pd.read_excel('barnstable_analysis_data.xlsx', sheet_name=1).set_index('date').fillna(method = 'ffill')\n",
    "data['excess_returns'] = data['SPX'] - data['TB1M'] \n",
    "rets = data['excess_returns']\n",
    "data"
   ]
  },
  {
   "cell_type": "markdown",
   "id": "261bb7dc-bf90-42b1-b77c-e63ef15fbc67",
   "metadata": {},
   "source": [
    "### **4.1.(a)**"
   ]
  },
  {
   "cell_type": "code",
   "execution_count": 52,
   "id": "ccf85175-0a3d-4a9e-b500-ef41a4db9de6",
   "metadata": {},
   "outputs": [
    {
     "data": {
      "text/html": [
       "<style type=\"text/css\">\n",
       "</style>\n",
       "<table id=\"T_3c4eb\">\n",
       "  <thead>\n",
       "    <tr>\n",
       "      <th class=\"blank\" >&nbsp;</th>\n",
       "      <th class=\"blank level0\" >&nbsp;</th>\n",
       "      <th id=\"T_3c4eb_level0_col0\" class=\"col_heading level0 col0\" colspan=\"2\">1965 - 1999</th>\n",
       "      <th id=\"T_3c4eb_level0_col2\" class=\"col_heading level0 col2\" colspan=\"2\">2000 - 2024</th>\n",
       "      <th id=\"T_3c4eb_level0_col4\" class=\"col_heading level0 col4\" colspan=\"2\">1926 - 2024</th>\n",
       "    </tr>\n",
       "    <tr>\n",
       "      <th class=\"blank\" >&nbsp;</th>\n",
       "      <th class=\"blank level1\" >&nbsp;</th>\n",
       "      <th id=\"T_3c4eb_level1_col0\" class=\"col_heading level1 col0\" >mean</th>\n",
       "      <th id=\"T_3c4eb_level1_col1\" class=\"col_heading level1 col1\" >vol</th>\n",
       "      <th id=\"T_3c4eb_level1_col2\" class=\"col_heading level1 col2\" >mean</th>\n",
       "      <th id=\"T_3c4eb_level1_col3\" class=\"col_heading level1 col3\" >vol</th>\n",
       "      <th id=\"T_3c4eb_level1_col4\" class=\"col_heading level1 col4\" >mean</th>\n",
       "      <th id=\"T_3c4eb_level1_col5\" class=\"col_heading level1 col5\" >vol</th>\n",
       "    </tr>\n",
       "  </thead>\n",
       "  <tbody>\n",
       "    <tr>\n",
       "      <th id=\"T_3c4eb_level0_row0\" class=\"row_heading level0 row0\" rowspan=\"3\">levels</th>\n",
       "      <th id=\"T_3c4eb_level1_row0\" class=\"row_heading level1 row0\" >SPX</th>\n",
       "      <td id=\"T_3c4eb_row0_col0\" class=\"data row0 col0\" >12.94%</td>\n",
       "      <td id=\"T_3c4eb_row0_col1\" class=\"data row0 col1\" >14.94%</td>\n",
       "      <td id=\"T_3c4eb_row0_col2\" class=\"data row0 col2\" >8.73%</td>\n",
       "      <td id=\"T_3c4eb_row0_col3\" class=\"data row0 col3\" >15.31%</td>\n",
       "      <td id=\"T_3c4eb_row0_col4\" class=\"data row0 col4\" >11.55%</td>\n",
       "      <td id=\"T_3c4eb_row0_col5\" class=\"data row0 col5\" >18.68%</td>\n",
       "    </tr>\n",
       "    <tr>\n",
       "      <th id=\"T_3c4eb_level1_row1\" class=\"row_heading level1 row1\" >TB1M</th>\n",
       "      <td id=\"T_3c4eb_row1_col0\" class=\"data row1 col0\" >6.15%</td>\n",
       "      <td id=\"T_3c4eb_row1_col1\" class=\"data row1 col1\" >0.72%</td>\n",
       "      <td id=\"T_3c4eb_row1_col2\" class=\"data row1 col2\" >1.72%</td>\n",
       "      <td id=\"T_3c4eb_row1_col3\" class=\"data row1 col3\" >0.55%</td>\n",
       "      <td id=\"T_3c4eb_row1_col4\" class=\"data row1 col4\" >3.17%</td>\n",
       "      <td id=\"T_3c4eb_row1_col5\" class=\"data row1 col5\" >0.85%</td>\n",
       "    </tr>\n",
       "    <tr>\n",
       "      <th id=\"T_3c4eb_level1_row2\" class=\"row_heading level1 row2\" >excess_returns</th>\n",
       "      <td id=\"T_3c4eb_row2_col0\" class=\"data row2 col0\" >6.79%</td>\n",
       "      <td id=\"T_3c4eb_row2_col1\" class=\"data row2 col1\" >15.01%</td>\n",
       "      <td id=\"T_3c4eb_row2_col2\" class=\"data row2 col2\" >7.01%</td>\n",
       "      <td id=\"T_3c4eb_row2_col3\" class=\"data row2 col3\" >15.33%</td>\n",
       "      <td id=\"T_3c4eb_row2_col4\" class=\"data row2 col4\" >8.38%</td>\n",
       "      <td id=\"T_3c4eb_row2_col5\" class=\"data row2 col5\" >18.71%</td>\n",
       "    </tr>\n",
       "    <tr>\n",
       "      <th id=\"T_3c4eb_level0_row3\" class=\"row_heading level0 row3\" rowspan=\"3\">logs</th>\n",
       "      <th id=\"T_3c4eb_level1_row3\" class=\"row_heading level1 row3\" >SPX</th>\n",
       "      <td id=\"T_3c4eb_row3_col0\" class=\"data row3 col0\" >11.76%</td>\n",
       "      <td id=\"T_3c4eb_row3_col1\" class=\"data row3 col1\" >14.96%</td>\n",
       "      <td id=\"T_3c4eb_row3_col2\" class=\"data row3 col2\" >7.53%</td>\n",
       "      <td id=\"T_3c4eb_row3_col3\" class=\"data row3 col3\" >15.40%</td>\n",
       "      <td id=\"T_3c4eb_row3_col4\" class=\"data row3 col4\" >9.78%</td>\n",
       "      <td id=\"T_3c4eb_row3_col5\" class=\"data row3 col5\" >18.61%</td>\n",
       "    </tr>\n",
       "    <tr>\n",
       "      <th id=\"T_3c4eb_level1_row4\" class=\"row_heading level1 row4\" >TB1M</th>\n",
       "      <td id=\"T_3c4eb_row4_col0\" class=\"data row4 col0\" >6.13%</td>\n",
       "      <td id=\"T_3c4eb_row4_col1\" class=\"data row4 col1\" >0.71%</td>\n",
       "      <td id=\"T_3c4eb_row4_col2\" class=\"data row4 col2\" >1.72%</td>\n",
       "      <td id=\"T_3c4eb_row4_col3\" class=\"data row4 col3\" >0.55%</td>\n",
       "      <td id=\"T_3c4eb_row4_col4\" class=\"data row4 col4\" >3.17%</td>\n",
       "      <td id=\"T_3c4eb_row4_col5\" class=\"data row4 col5\" >0.85%</td>\n",
       "    </tr>\n",
       "    <tr>\n",
       "      <th id=\"T_3c4eb_level1_row5\" class=\"row_heading level1 row5\" >excess_returns</th>\n",
       "      <td id=\"T_3c4eb_row5_col0\" class=\"data row5 col0\" >5.64%</td>\n",
       "      <td id=\"T_3c4eb_row5_col1\" class=\"data row5 col1\" >15.11%</td>\n",
       "      <td id=\"T_3c4eb_row5_col2\" class=\"data row5 col2\" >5.81%</td>\n",
       "      <td id=\"T_3c4eb_row5_col3\" class=\"data row5 col3\" >15.45%</td>\n",
       "      <td id=\"T_3c4eb_row5_col4\" class=\"data row5 col4\" >6.62%</td>\n",
       "      <td id=\"T_3c4eb_row5_col5\" class=\"data row5 col5\" >18.66%</td>\n",
       "    </tr>\n",
       "  </tbody>\n",
       "</table>\n"
      ],
      "text/plain": [
       "<pandas.io.formats.style.Styler at 0x1cc5922d910>"
      ]
     },
     "execution_count": 52,
     "metadata": {},
     "output_type": "execute_result"
    }
   ],
   "source": [
    "agg_years = [(1965, 1999), (2000, 2024), (1926, 2024)]\n",
    "def calc_analytics_by_year(data, agg_years):\n",
    "    res = []\n",
    "    for y in agg_years:\n",
    "        sub = data.loc[str(y[0]):str(y[1])]\n",
    "        res.append({'mean': sub.mean() * 12, 'vol': sub.std() * np.sqrt(12)})\n",
    "    return pd.DataFrame(res, index = [f'{i[0]} - {i[1]}' for i in agg_years]).stack()\n",
    "\n",
    "sum_stats = data.apply(calc_analytics_by_year, agg_years = agg_years).T\n",
    "log_sum_stats = np.log(1 + data).apply(calc_analytics_by_year, agg_years = agg_years).T\n",
    "\n",
    "res_stats = pd.concat([sum_stats, log_sum_stats])\n",
    "res_stats.index = pd.MultiIndex.from_product([['levels','logs'], sum_stats.index.to_list()])\n",
    "res_stats.style.format('{:,.2%}')"
   ]
  },
  {
   "cell_type": "markdown",
   "id": "746d59a5-2735-49e0-95bc-bdb9a3a407ce",
   "metadata": {},
   "source": [
    "### **4.1.(b)**"
   ]
  },
  {
   "cell_type": "markdown",
   "id": "bf297635-d06d-4b72-a211-1b020ea346a4",
   "metadata": {},
   "source": [
    "#### Compared to the sub-samples, the full sample period achieved higher excess returns (excess_rm) along with higher volatility. Meanwhile, the S&P 500 (rm) and 1-month T-bills (rf) performed best during the sub-sample period of 1965-1999, exhibiting the highest Sharpe ratios."
   ]
  },
  {
   "cell_type": "markdown",
   "id": "616cdc83-d1bf-4b97-ac1b-fd0772b10b0b",
   "metadata": {},
   "source": [
    "#### Full sample estimates are significantly different for the excess returns, this is because of the low risk-free rate during that period. The log returns show lower mean returns as expected."
   ]
  },
  {
   "cell_type": "markdown",
   "id": "34639145-00c3-401a-b0fb-4fb7142c01de",
   "metadata": {},
   "source": [
    "#### Compared to the log statistics, the level statistics do not differ significantly. In the full sample, they exhibit higher mean and volatility, while in the sub-samples, they have higher mean and nearly equal or even lower volatility."
   ]
  },
  {
   "cell_type": "markdown",
   "id": "f4183c90-091c-4c03-96a3-b47083322c02",
   "metadata": {},
   "source": [
    "### **4.2.(a)**"
   ]
  },
  {
   "cell_type": "markdown",
   "id": "d2c7c88a-27c4-4264-8b01-8217065a3ff7",
   "metadata": {},
   "source": [
    "$$\n",
    "\\begin{aligned}\n",
    "\\operatorname{Pr}\\left[R_{t, t+h}^M<R_{t, t+h}^f\\right] &= \\operatorname{Pr}\\left[\\log (R_{t, t+h}^M) - \\log (R_{t, t+h}^f) < 0 \\right] = \\operatorname{Pr}\\left[ \\mathrm{r}_{t, t+h}^M - \\mathrm{r}_{t, t+h}^f < 0 \\right] \\\\\n",
    "&= \\operatorname{Pr}\\left[ \\sum_{i=t}^{t+h}{\\mathrm{r}}_{i}^M - \\sum_{i=t}^{t+h}{\\mathrm{r}}_{i}^f < 0 \\right] = \\operatorname{Pr}\\left[ \\sum_{i=t}^{t+h}(\\mathrm{r}_{i}^M - \\mathrm{r}_{i}^f) < 0 \\right] \\\\\n",
    "&= \\operatorname{Pr}\\left[ \\sum_{i=t}^{t+h}\\tilde{\\mathrm{r}}_{i} < 0 \\right] = \\operatorname{Pr}\\left[ \\tilde{\\mathrm{r}}_{t, t+h} < 0 \\right] \\\\\n",
    "\\end{aligned}\n",
    "$$\n",
    "\n",
    "Let annualized mean and volatility of log excess return as $\\mu$ and $\\sigma$, then we can see\n",
    "\n",
    "$$\n",
    "\\tilde{\\mathrm{r}}_{t, t+h} \\sim \\mathcal{N}\\left(h\\mu, h\\sigma^2\\right)\n",
    "$$\n",
    "\n",
    "As such,\n",
    "\n",
    "$$\n",
    "\\operatorname{Pr}\\left[ \\tilde{\\mathrm{r}}_{t, t+h} < 0 \\right] = \n",
    "\\operatorname{Pr}\\left[ Z < \\frac{-h\\mu}{\\sqrt{h}\\sigma} \\right] \\\\\n",
    "= \\Phi_{\\mathcal{N}}\\left(-\\sqrt{h}\\frac{\\mu}{\\sigma}\\right)\n",
    "$$"
   ]
  },
  {
   "cell_type": "markdown",
   "id": "d953d334-5471-4e07-bba8-7a4acd12a32b",
   "metadata": {},
   "source": [
    "### **4.2.(b)**"
   ]
  },
  {
   "cell_type": "code",
   "execution_count": 53,
   "id": "a895996c-d8a2-4cdd-8d8c-ead3db522ac1",
   "metadata": {},
   "outputs": [
    {
     "name": "stdout",
     "output_type": "stream",
     "text": [
      "SPX underperforming RF in the next 15 years after 1999: 7.42%\n",
      "SPX underperforming RF in the next 30 years after 1999: 2.05%\n"
     ]
    }
   ],
   "source": [
    "def prob(mu, sigma, h):\n",
    "    return norm.cdf(np.sqrt(h)*mu/sigma)\n",
    "\n",
    "mu, sigma = res_stats['1965 - 1999'].loc[('logs', 'excess_returns')]\n",
    "\n",
    "print(f'SPX underperforming RF in the next 15 years after 1999: {prob(mu = -mu, sigma = sigma, h = 15):,.2%}')\n",
    "\n",
    "print(f'SPX underperforming RF in the next 30 years after 1999: {prob(mu = -mu, sigma = sigma, h = 30):,.2%}')"
   ]
  },
  {
   "cell_type": "markdown",
   "id": "5209b73a-b81d-4780-971c-79c55957611b",
   "metadata": {},
   "source": [
    "### **4.2.(c)**"
   ]
  },
  {
   "cell_type": "code",
   "execution_count": 54,
   "id": "c0c8cc7a-85a2-458a-b264-abf3b7050a77",
   "metadata": {},
   "outputs": [
    {
     "data": {
      "text/plain": [
       "<Axes: >"
      ]
     },
     "execution_count": 54,
     "metadata": {},
     "output_type": "execute_result"
    },
    {
     "data": {
      "image/png": "[encoded data removed]",
      "text/plain": [
       "<Figure size 640x480 with 1 Axes>"
      ]
     },
     "metadata": {},
     "output_type": "display_data"
    }
   ],
   "source": [
    "h = np.arange(30) + 1\n",
    "probs = pd.DataFrame([prob(-mu, sigma, x) for x in h], columns=['Probability of Underperformance'], index = h)\n",
    "probs.plot()"
   ]
  },
  {
   "cell_type": "markdown",
   "id": "f445355a-d6e9-4a53-abe7-b4cde5346071",
   "metadata": {},
   "source": [
    "### **4.3**"
   ]
  },
  {
   "cell_type": "code",
   "execution_count": 58,
   "id": "92761305-4158-4bd0-b2eb-b28684e93402",
   "metadata": {},
   "outputs": [
    {
     "data": {
      "image/png": "[encoded data removed]",
      "text/plain": [
       "<Figure size 640x480 with 1 Axes>"
      ]
     },
     "metadata": {},
     "output_type": "display_data"
    }
   ],
   "source": [
    "mu = np.log(1+rets.loc['1965':'2024']).mean() * 12\n",
    "sigma = np.log(1+rets.loc['1965':'2024']).std() * np.sqrt(12)\n",
    "h = np.arange(30)+1\n",
    "\n",
    "probs = pd.DataFrame([prob(-mu, sigma, x) for x in h], columns=['Probability of Underperformance'], index = h)\n",
    "probs.plot(title = 'Sample from 1965 to 2024', ylabel = 'Probability', xlabel = 'h periods')\n",
    "plt.show()"
   ]
  },
  {
   "cell_type": "markdown",
   "id": "399a23d3-3cd2-4088-a8c1-712e24eb97b0",
   "metadata": {},
   "source": [
    "### **4.4**"
   ]
  },
  {
   "cell_type": "code",
   "execution_count": 57,
   "id": "98d90105-3f06-4e15-9957-2ead54750ef3",
   "metadata": {},
   "outputs": [
    {
     "name": "stdout",
     "output_type": "stream",
     "text": [
      "Probability of underperformance in 2000-2024: 8.27%\n"
     ]
    }
   ],
   "source": [
    "mu = res_stats[('1965 - 1999', 'mean')].loc[('logs', 'SPX')] - res_stats[('2000 - 2024', 'mean')].loc[('logs', 'SPX')]\n",
    "sigma = res_stats[('1965 - 1999', 'vol')].loc[('logs', 'SPX')]\n",
    "\n",
    "print(f\"Probability of underperformance in 2000-2024: {prob(-mu, sigma, 24):,.2%}\")"
   ]
  }
 ],
 "metadata": {
  "kernelspec": {
   "display_name": "Python 3 (ipykernel)",
   "language": "python",
   "name": "python3"
  },
  "language_info": {
   "codemirror_mode": {
    "name": "ipython",
    "version": 3
   },
   "file_extension": ".py",
   "mimetype": "text/x-python",
   "name": "python",
   "nbconvert_exporter": "python",
   "pygments_lexer": "ipython3",
   "version": "3.11.7"
  }
 },
 "nbformat": 4,
 "nbformat_minor": 5
}
